{
 "cells": [
  {
   "cell_type": "markdown",
   "id": "29d8936d-bc2b-4cea-b03a-80cd8fba14a3",
   "metadata": {},
   "source": [
    "Q1: Difference Between t-Test and z-Test:\n",
    "\n",
    "t-Test: Used when the population standard deviation is unknown, and a sample is relatively small. It is based on the Student's t-distribution.\n",
    "Example: Testing whether a sample of 30 students from a class has a significantly different mean score from the class's mean score when you don't know the population standard deviation.\n",
    "\n",
    "z-Test: Used when the population standard deviation is known or when the sample size is sufficiently large (typically n > 30). It is based on the standard normal distribution.\n",
    "Example: Testing whether the average income of a city's population differs from the national average income when the population standard deviation is known."
   ]
  },
  {
   "cell_type": "markdown",
   "id": "b74ee31f-ba29-40ec-b3ed-848e9c65b041",
   "metadata": {},
   "source": [
    "Q2: One-Tailed vs. Two-Tailed Tests:\n",
    "\n",
    "One-Tailed Test: It tests for a specific direction of effect (e.g., greater than or less than). It's used when you have a clear hypothesis about the direction of the effect.\n",
    "Example: Testing if a new drug increases blood pressure (one-tailed, greater than).\n",
    "\n",
    "Two-Tailed Test: It tests for an effect in either direction (greater than or less than). It's used when you want to determine if there's a significant difference without specifying the direction.\n",
    "Example: Testing if a new drug has any effect on blood pressure (two-tailed)."
   ]
  },
  {
   "cell_type": "markdown",
   "id": "616f959b-4e8a-4f8e-a73c-89321ec97552",
   "metadata": {},
   "source": [
    "Q3: Type 1 and Type 2 Errors:\n",
    "\n",
    "Type 1 Error (False Positive): Occurs when you incorrectly reject the null hypothesis when it is true. It represents a false alarm.\n",
    "Example: Concluding that a patient has a disease when they don't (false positive in medical diagnosis).\n",
    "\n",
    "Type 2 Error (False Negative): Occurs when you incorrectly fail to reject the null hypothesis when it is false. It represents a missed opportunity to detect an effect.\n",
    "Example: Failing to detect a new drug's effectiveness when it does work (false negative in drug testing)."
   ]
  },
  {
   "cell_type": "markdown",
   "id": "a5bcad92-a74c-4ab6-a97f-eb426bfb4c77",
   "metadata": {},
   "source": [
    "Q4: Bayes's Theorem:\n",
    "Bayes's Theorem is a way to update the probability for a hypothesis as more evidence or information becomes available. It's used in Bayesian probability theory. The formula is:\n",
    "\n",
    "P(A∣B)= P(B∣A)∗P(A)/P(B)\n",
    "​\n",
    " \n",
    "\n",
    "Where:\n",
    "\n",
    "P(A∣B) is the probability of hypothesis A given evidence B.\n",
    "\n",
    "P(B∣A) is the probability of evidence B given hypothesis A.\n",
    "P(A) is the prior probability of hypothesis A.\n",
    "P(B) is the total probability of evidence B.\n",
    "Example: Bayesian spam filtering, where you update the probability that an email is spam based on the presence of certain keywords."
   ]
  },
  {
   "cell_type": "markdown",
   "id": "d3b2cf00-12ec-4cc2-9750-aaa39d8b45fc",
   "metadata": {},
   "source": [
    "Q5: Confidence Interval:\n",
    "A confidence interval is a range of values that is likely to contain a population parameter, such as a mean or proportion, along with a level of confidence. It's a way to quantify the uncertainty in your estimation.\n",
    "\n",
    "To calculate a confidence interval, use the formula:\n",
    "\n",
    "ConfidenceInterval= x ±Z∗ s/root(n)\n",
    "\n",
    "Example: If you have a sample of test scores from a population and calculate a 95% confidence interval for the population mean, it will give you a range within which the true population mean is likely to fall with 95% confidence."
   ]
  },
  {
   "cell_type": "markdown",
   "id": "d91fa627-0d24-4a30-95c8-87b1993fc2ea",
   "metadata": {},
   "source": [
    "Q6: Bayes's Theorem Probability Calculation:\n",
    "For a Bayes's Theorem problem, you need prior probabilities, likelihoods, and evidence.\n",
    "\n",
    "Example Problem:\n",
    "You want to know the probability of a patient having a disease (A) given a positive test result (B).\n",
    "\n",
    "Prior probability: P(A) = 0.1 (10% of the population has the disease).\n",
    "Likelihood: P(B|A) = 0.9 (probability of a positive test when having the disease).\n",
    "Total probability of a positive test: P(B) = 0.145 (0.1 * 0.9 + 0.9 * 0.1).\n",
    "Now, use Bayes's Theorem to calculate P(A|B):\n",
    "p(a/b)=p(b/a)*p(a)/p(b)\n",
    "=0.9*0.1/0.145\n",
    "=0.62\n",
    "So, the probability of having the disease given a positive test result is approximately 62%."
   ]
  },
  {
   "cell_type": "markdown",
   "id": "2026e3ea-cacb-40ad-a6ed-477bdc836930",
   "metadata": {},
   "source": [
    "Q7: Calculating a 95% Confidence Interval:\n",
    "Given data:\n",
    "\n",
    "Sample mean (x̄) = 50\n",
    "Standard deviation (s) = 5\n",
    "Sample size (n) = (not provided)\n",
    "To calculate the 95% confidence interval, we need the sample size (n). The formula is:\n",
    "    confident interval=x+z*s/root(n)\n",
    "    "
   ]
  },
  {
   "cell_type": "markdown",
   "id": "2835a58c-6992-4847-b7fa-311da2589588",
   "metadata": {},
   "source": [
    "Q8: Margin of Error in a Confidence Interval:\n",
    "The margin of error (MOE) is a measure of the precision of a confidence interval. It represents the range within which the true population parameter is likely to fall. The MOE decreases as the sample size increases. For a given level of confidence, the larger the sample size, the smaller the MOE.\n",
    "\n",
    "Example: If you want to estimate the average height of students with a 95% confidence interval, a larger sample size (e.g., 200 students) will result in a smaller margin of error compared to a smaller sample size (e.g., 50 students)."
   ]
  },
  {
   "cell_type": "markdown",
   "id": "64c5e43a-36c4-4910-91c3-a5152762d6dd",
   "metadata": {},
   "source": [
    "Q9: Calculating a Z-Score:\n",
    "Given data:\n",
    "\n",
    "Data point value = 75\n",
    "Population mean (μ) = 70\n",
    "Population standard deviation (σ) = 5\n",
    "The formula for the z-score is:\n",
    "Z=X−μ/ σ\n",
    "\n",
    "Calculating the z-score:\n",
    "[Z = \\frac{75 - 70}{5} = 1]\n",
    "\n",
    "Interpretation: The data point of 75 is 1 standard deviation above the mean."
   ]
  },
  {
   "cell_type": "markdown",
   "id": "d7dfe19d-af5a-4f2b-abfd-d7f8613badae",
   "metadata": {},
   "source": [
    "Q10: Hypothesis Test for Weight Loss Drug:\n",
    "Given data:\n",
    "\n",
    "Sample mean weight loss = 6 pounds\n",
    "Sample standard deviation = 2.5 pounds\n",
    "Sample size (n) = 50\n",
    "Null hypothesis (H0): The drug has no effect (μ = 0)\n",
    "Significance level (α) = 0.05\n",
    "Use a one-sample t-test to test the null hypothesis. Calculate the t-statistic, degrees of freedom, and compare it to the critical t-value to determine if the drug is significantly effective."
   ]
  },
  {
   "cell_type": "markdown",
   "id": "719e5191-b920-4f44-ae3f-ce9bc33bbc65",
   "metadata": {},
   "source": [
    "Q11: Calculating Confidence Interval for Proportion:\n",
    "Given data:\n",
    "\n",
    "Sample proportion (p̂) = 0.65\n",
    "Sample size (n) = 500\n",
    "Confidence level = 95%\n",
    "To calculate the 95% confidence interval for the true proportion of people satisfied with their job, use the formula for the confidence interval for a proportion:"
   ]
  },
  {
   "cell_type": "markdown",
   "id": "6f944c43-9e9a-407e-b73b-53777f113bb3",
   "metadata": {},
   "source": [
    "Q12: Hypothesis Test for Teaching Methods:\n",
    "Given data for Sample A:\n",
    "\n",
    "Sample mean (x̄1) = 85\n",
    "Sample standard deviation (s1) = 6\n",
    "Sample size (n1)\n",
    "Continuing with the data for Sample B:\n",
    "\n",
    "Sample mean (x̄2) = 82\n",
    "Sample standard deviation (s2) = 5\n",
    "Sample size (n2)\n",
    "To conduct a hypothesis test to determine if the two teaching methods have a significant difference in student performance, you can use a two-sample t-test. Calculate the test statistic, degrees of freedom, and compare it to the critical t-value at a significance level of 0.01 to make a conclusion."
   ]
  },
  {
   "cell_type": "markdown",
   "id": "142d4d6e-3f0d-4278-88e7-3eb5e052c048",
   "metadata": {},
   "source": [
    "Q13: Calculating a 90% Confidence Interval:\n",
    "Given data:\n",
    "\n",
    "Sample mean (x̄) = 65\n",
    "Population standard deviation (σ) = 8\n",
    "Sample size (n) = 50\n",
    "To calculate the 90% confidence interval for the true population mean, use the formula for a confidence interval with a known population standard deviation:"
   ]
  },
  {
   "cell_type": "markdown",
   "id": "63658a19-aabe-45f6-8e28-16b24964e92b",
   "metadata": {},
   "source": [
    "Q14: Hypothesis Test for Caffeine on Reaction Time:\n",
    "Given data:\n",
    "\n",
    "Sample mean reaction time = 0.25 seconds\n",
    "Sample standard deviation = 0.05 seconds\n",
    "Sample size (n) = 30\n",
    "Null hypothesis (H0): Caffeine has no effect (μ = 0)\n",
    "Significance level (α) = 0.10 (90% confidence level)\n",
    "Use a one-sample t-test to test the null hypothesis. Calculate the t-statistic, degrees of freedom, and compare it to the critical t-value at a significance level of 0.10 to make a conclusion."
   ]
  },
  {
   "cell_type": "code",
   "execution_count": null,
   "id": "43449f08-868e-4fab-9174-0f898c2c2a91",
   "metadata": {},
   "outputs": [],
   "source": []
  },
  {
   "cell_type": "code",
   "execution_count": null,
   "id": "88f1081f-3473-4af5-9782-e92e5b5d552e",
   "metadata": {},
   "outputs": [],
   "source": []
  },
  {
   "cell_type": "code",
   "execution_count": null,
   "id": "5a968894-8d25-4c47-804e-657a501c0573",
   "metadata": {},
   "outputs": [],
   "source": []
  },
  {
   "cell_type": "code",
   "execution_count": null,
   "id": "268031a6-3cd3-41b8-b1d6-1ff5eef44964",
   "metadata": {},
   "outputs": [],
   "source": []
  },
  {
   "cell_type": "code",
   "execution_count": null,
   "id": "366d4e79-4128-486c-9aa3-84df64367622",
   "metadata": {},
   "outputs": [],
   "source": []
  }
 ],
 "metadata": {
  "kernelspec": {
   "display_name": "Python 3 (ipykernel)",
   "language": "python",
   "name": "python3"
  },
  "language_info": {
   "codemirror_mode": {
    "name": "ipython",
    "version": 3
   },
   "file_extension": ".py",
   "mimetype": "text/x-python",
   "name": "python",
   "nbconvert_exporter": "python",
   "pygments_lexer": "ipython3",
   "version": "3.10.8"
  }
 },
 "nbformat": 4,
 "nbformat_minor": 5
}
